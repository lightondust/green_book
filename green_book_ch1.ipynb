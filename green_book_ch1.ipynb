{
 "cells": [
  {
   "cell_type": "markdown",
   "metadata": {},
   "source": [
    "# データ読み込み "
   ]
  },
  {
   "cell_type": "code",
   "execution_count": 1,
   "metadata": {},
   "outputs": [],
   "source": [
    "load(\"./data/data.RData\")"
   ]
  },
  {
   "cell_type": "markdown",
   "metadata": {},
   "source": [
    "# データを見る "
   ]
  },
  {
   "cell_type": "code",
   "execution_count": 2,
   "metadata": {},
   "outputs": [
    {
     "data": {
      "text/html": [
       "<ol class=list-inline>\n",
       "\t<li>2</li>\n",
       "\t<li>2</li>\n",
       "\t<li>4</li>\n",
       "\t<li>6</li>\n",
       "\t<li>4</li>\n",
       "\t<li>5</li>\n",
       "\t<li>2</li>\n",
       "\t<li>3</li>\n",
       "\t<li>1</li>\n",
       "\t<li>2</li>\n",
       "\t<li>0</li>\n",
       "\t<li>4</li>\n",
       "\t<li>3</li>\n",
       "\t<li>3</li>\n",
       "\t<li>3</li>\n",
       "\t<li>3</li>\n",
       "\t<li>4</li>\n",
       "\t<li>2</li>\n",
       "\t<li>7</li>\n",
       "\t<li>2</li>\n",
       "\t<li>4</li>\n",
       "\t<li>3</li>\n",
       "\t<li>3</li>\n",
       "\t<li>3</li>\n",
       "\t<li>4</li>\n",
       "\t<li>3</li>\n",
       "\t<li>7</li>\n",
       "\t<li>5</li>\n",
       "\t<li>3</li>\n",
       "\t<li>1</li>\n",
       "\t<li>7</li>\n",
       "\t<li>6</li>\n",
       "\t<li>4</li>\n",
       "\t<li>6</li>\n",
       "\t<li>5</li>\n",
       "\t<li>2</li>\n",
       "\t<li>4</li>\n",
       "\t<li>7</li>\n",
       "\t<li>2</li>\n",
       "\t<li>2</li>\n",
       "\t<li>6</li>\n",
       "\t<li>2</li>\n",
       "\t<li>4</li>\n",
       "\t<li>5</li>\n",
       "\t<li>4</li>\n",
       "\t<li>5</li>\n",
       "\t<li>1</li>\n",
       "\t<li>3</li>\n",
       "\t<li>2</li>\n",
       "\t<li>3</li>\n",
       "</ol>\n"
      ],
      "text/latex": [
       "\\begin{enumerate*}\n",
       "\\item 2\n",
       "\\item 2\n",
       "\\item 4\n",
       "\\item 6\n",
       "\\item 4\n",
       "\\item 5\n",
       "\\item 2\n",
       "\\item 3\n",
       "\\item 1\n",
       "\\item 2\n",
       "\\item 0\n",
       "\\item 4\n",
       "\\item 3\n",
       "\\item 3\n",
       "\\item 3\n",
       "\\item 3\n",
       "\\item 4\n",
       "\\item 2\n",
       "\\item 7\n",
       "\\item 2\n",
       "\\item 4\n",
       "\\item 3\n",
       "\\item 3\n",
       "\\item 3\n",
       "\\item 4\n",
       "\\item 3\n",
       "\\item 7\n",
       "\\item 5\n",
       "\\item 3\n",
       "\\item 1\n",
       "\\item 7\n",
       "\\item 6\n",
       "\\item 4\n",
       "\\item 6\n",
       "\\item 5\n",
       "\\item 2\n",
       "\\item 4\n",
       "\\item 7\n",
       "\\item 2\n",
       "\\item 2\n",
       "\\item 6\n",
       "\\item 2\n",
       "\\item 4\n",
       "\\item 5\n",
       "\\item 4\n",
       "\\item 5\n",
       "\\item 1\n",
       "\\item 3\n",
       "\\item 2\n",
       "\\item 3\n",
       "\\end{enumerate*}\n"
      ],
      "text/markdown": [
       "1. 2\n",
       "2. 2\n",
       "3. 4\n",
       "4. 6\n",
       "5. 4\n",
       "6. 5\n",
       "7. 2\n",
       "8. 3\n",
       "9. 1\n",
       "10. 2\n",
       "11. 0\n",
       "12. 4\n",
       "13. 3\n",
       "14. 3\n",
       "15. 3\n",
       "16. 3\n",
       "17. 4\n",
       "18. 2\n",
       "19. 7\n",
       "20. 2\n",
       "21. 4\n",
       "22. 3\n",
       "23. 3\n",
       "24. 3\n",
       "25. 4\n",
       "26. 3\n",
       "27. 7\n",
       "28. 5\n",
       "29. 3\n",
       "30. 1\n",
       "31. 7\n",
       "32. 6\n",
       "33. 4\n",
       "34. 6\n",
       "35. 5\n",
       "36. 2\n",
       "37. 4\n",
       "38. 7\n",
       "39. 2\n",
       "40. 2\n",
       "41. 6\n",
       "42. 2\n",
       "43. 4\n",
       "44. 5\n",
       "45. 4\n",
       "46. 5\n",
       "47. 1\n",
       "48. 3\n",
       "49. 2\n",
       "50. 3\n",
       "\n",
       "\n"
      ],
      "text/plain": [
       " [1] 2 2 4 6 4 5 2 3 1 2 0 4 3 3 3 3 4 2 7 2 4 3 3 3 4 3 7 5 3 1 7 6 4 6 5 2 4 7\n",
       "[39] 2 2 6 2 4 5 4 5 1 3 2 3"
      ]
     },
     "metadata": {},
     "output_type": "display_data"
    }
   ],
   "source": [
    "data"
   ]
  },
  {
   "cell_type": "code",
   "execution_count": 3,
   "metadata": {},
   "outputs": [
    {
     "data": {
      "text/html": [
       "50"
      ],
      "text/latex": [
       "50"
      ],
      "text/markdown": [
       "50"
      ],
      "text/plain": [
       "[1] 50"
      ]
     },
     "metadata": {},
     "output_type": "display_data"
    }
   ],
   "source": [
    "length(data)"
   ]
  },
  {
   "cell_type": "code",
   "execution_count": 4,
   "metadata": {},
   "outputs": [
    {
     "data": {
      "text/plain": [
       "   Min. 1st Qu.  Median    Mean 3rd Qu.    Max. \n",
       "   0.00    2.00    3.00    3.56    4.75    7.00 "
      ]
     },
     "metadata": {},
     "output_type": "display_data"
    }
   ],
   "source": [
    "summary(data)"
   ]
  },
  {
   "cell_type": "code",
   "execution_count": 5,
   "metadata": {},
   "outputs": [
    {
     "name": "stdout",
     "output_type": "stream",
     "text": [
      " num [1:50] 2 2 4 6 4 5 2 3 1 2 ...\n"
     ]
    }
   ],
   "source": [
    "str(data)"
   ]
  },
  {
   "cell_type": "code",
   "execution_count": 6,
   "metadata": {},
   "outputs": [
    {
     "data": {
      "text/plain": [
       "data\n",
       " 0  1  2  3  4  5  6  7 \n",
       " 1  3 11 12 10  5  4  4 "
      ]
     },
     "metadata": {},
     "output_type": "display_data"
    }
   ],
   "source": [
    "table(data)"
   ]
  },
  {
   "cell_type": "code",
   "execution_count": 7,
   "metadata": {},
   "outputs": [
    {
     "data": {
      "image/png": "[encoded data removed]",
      "text/plain": [
       "Plot with title “Histogram of data”"
      ]
     },
     "metadata": {},
     "output_type": "display_data"
    }
   ],
   "source": [
    "hist(data, breaks = seq(-0.5, 9.5, 1))"
   ]
  },
  {
   "cell_type": "code",
   "execution_count": 8,
   "metadata": {},
   "outputs": [
    {
     "data": {
      "text/html": [
       "2.98612244897959"
      ],
      "text/latex": [
       "2.98612244897959"
      ],
      "text/markdown": [
       "2.98612244897959"
      ],
      "text/plain": [
       "[1] 2.986122"
      ]
     },
     "metadata": {},
     "output_type": "display_data"
    }
   ],
   "source": [
    "var(data)"
   ]
  },
  {
   "cell_type": "code",
   "execution_count": 9,
   "metadata": {},
   "outputs": [
    {
     "data": {
      "text/html": [
       "1.72804006000428"
      ],
      "text/latex": [
       "1.72804006000428"
      ],
      "text/markdown": [
       "1.72804006000428"
      ],
      "text/plain": [
       "[1] 1.72804"
      ]
     },
     "metadata": {},
     "output_type": "display_data"
    }
   ],
   "source": [
    "sqrt(var(data))"
   ]
  },
  {
   "cell_type": "code",
   "execution_count": 10,
   "metadata": {},
   "outputs": [
    {
     "data": {
      "text/html": [
       "1.72804006000428"
      ],
      "text/latex": [
       "1.72804006000428"
      ],
      "text/markdown": [
       "1.72804006000428"
      ],
      "text/plain": [
       "[1] 1.72804"
      ]
     },
     "metadata": {},
     "output_type": "display_data"
    }
   ],
   "source": [
    "sd(data)"
   ]
  },
  {
   "cell_type": "markdown",
   "metadata": {},
   "source": [
    "# ポアソン分布 "
   ]
  },
  {
   "cell_type": "code",
   "execution_count": 11,
   "metadata": {},
   "outputs": [],
   "source": [
    "y <- 0:9"
   ]
  },
  {
   "cell_type": "code",
   "execution_count": 12,
   "metadata": {},
   "outputs": [
    {
     "data": {
      "text/html": [
       "<ol class=list-inline>\n",
       "\t<li>0</li>\n",
       "\t<li>1</li>\n",
       "\t<li>2</li>\n",
       "\t<li>3</li>\n",
       "\t<li>4</li>\n",
       "\t<li>5</li>\n",
       "\t<li>6</li>\n",
       "\t<li>7</li>\n",
       "\t<li>8</li>\n",
       "\t<li>9</li>\n",
       "</ol>\n"
      ],
      "text/latex": [
       "\\begin{enumerate*}\n",
       "\\item 0\n",
       "\\item 1\n",
       "\\item 2\n",
       "\\item 3\n",
       "\\item 4\n",
       "\\item 5\n",
       "\\item 6\n",
       "\\item 7\n",
       "\\item 8\n",
       "\\item 9\n",
       "\\end{enumerate*}\n"
      ],
      "text/markdown": [
       "1. 0\n",
       "2. 1\n",
       "3. 2\n",
       "4. 3\n",
       "5. 4\n",
       "6. 5\n",
       "7. 6\n",
       "8. 7\n",
       "9. 8\n",
       "10. 9\n",
       "\n",
       "\n"
      ],
      "text/plain": [
       " [1] 0 1 2 3 4 5 6 7 8 9"
      ]
     },
     "metadata": {},
     "output_type": "display_data"
    }
   ],
   "source": [
    "y"
   ]
  },
  {
   "cell_type": "code",
   "execution_count": 13,
   "metadata": {},
   "outputs": [],
   "source": [
    "prob <- dpois(y, lambda = 3.56)"
   ]
  },
  {
   "cell_type": "code",
   "execution_count": 14,
   "metadata": {},
   "outputs": [
    {
     "data": {
      "text/html": [
       "<ol class=list-inline>\n",
       "\t<li>0.0284388247141845</li>\n",
       "\t<li>0.101242215982497</li>\n",
       "\t<li>0.180211144448844</li>\n",
       "\t<li>0.213850558079295</li>\n",
       "\t<li>0.190326996690573</li>\n",
       "\t<li>0.135512821643688</li>\n",
       "\t<li>0.0804042741752548</li>\n",
       "\t<li>0.0408913165805582</li>\n",
       "\t<li>0.0181966358783484</li>\n",
       "\t<li>0.00719778041410224</li>\n",
       "</ol>\n"
      ],
      "text/latex": [
       "\\begin{enumerate*}\n",
       "\\item 0.0284388247141845\n",
       "\\item 0.101242215982497\n",
       "\\item 0.180211144448844\n",
       "\\item 0.213850558079295\n",
       "\\item 0.190326996690573\n",
       "\\item 0.135512821643688\n",
       "\\item 0.0804042741752548\n",
       "\\item 0.0408913165805582\n",
       "\\item 0.0181966358783484\n",
       "\\item 0.00719778041410224\n",
       "\\end{enumerate*}\n"
      ],
      "text/markdown": [
       "1. 0.0284388247141845\n",
       "2. 0.101242215982497\n",
       "3. 0.180211144448844\n",
       "4. 0.213850558079295\n",
       "5. 0.190326996690573\n",
       "6. 0.135512821643688\n",
       "7. 0.0804042741752548\n",
       "8. 0.0408913165805582\n",
       "9. 0.0181966358783484\n",
       "10. 0.00719778041410224\n",
       "\n",
       "\n"
      ],
      "text/plain": [
       " [1] 0.02843882 0.10124222 0.18021114 0.21385056 0.19032700 0.13551282\n",
       " [7] 0.08040427 0.04089132 0.01819664 0.00719778"
      ]
     },
     "metadata": {},
     "output_type": "display_data"
    }
   ],
   "source": [
    "prob"
   ]
  },
  {
   "cell_type": "code",
   "execution_count": 15,
   "metadata": {},
   "outputs": [
    {
     "data": {
      "image/png": "[encoded data removed]",
      "text/plain": [
       "plot without title"
      ]
     },
     "metadata": {},
     "output_type": "display_data"
    }
   ],
   "source": [
    "plot(y, prob, type = \"b\", lty = 2)"
   ]
  },
  {
   "cell_type": "code",
   "execution_count": 17,
   "metadata": {},
   "outputs": [
    {
     "data": {
      "text/html": [
       "<table>\n",
       "<thead><tr><th scope=col>y</th><th scope=col>prob</th></tr></thead>\n",
       "<tbody>\n",
       "\t<tr><td>0         </td><td>0.02843882</td></tr>\n",
       "\t<tr><td>1         </td><td>0.10124222</td></tr>\n",
       "\t<tr><td>2         </td><td>0.18021114</td></tr>\n",
       "\t<tr><td>3         </td><td>0.21385056</td></tr>\n",
       "\t<tr><td>4         </td><td>0.19032700</td></tr>\n",
       "\t<tr><td>5         </td><td>0.13551282</td></tr>\n",
       "\t<tr><td>6         </td><td>0.08040427</td></tr>\n",
       "\t<tr><td>7         </td><td>0.04089132</td></tr>\n",
       "\t<tr><td>8         </td><td>0.01819664</td></tr>\n",
       "\t<tr><td>9         </td><td>0.00719778</td></tr>\n",
       "</tbody>\n",
       "</table>\n"
      ],
      "text/latex": [
       "\\begin{tabular}{ll}\n",
       " y & prob\\\\\n",
       "\\hline\n",
       "\t 0          & 0.02843882\\\\\n",
       "\t 1          & 0.10124222\\\\\n",
       "\t 2          & 0.18021114\\\\\n",
       "\t 3          & 0.21385056\\\\\n",
       "\t 4          & 0.19032700\\\\\n",
       "\t 5          & 0.13551282\\\\\n",
       "\t 6          & 0.08040427\\\\\n",
       "\t 7          & 0.04089132\\\\\n",
       "\t 8          & 0.01819664\\\\\n",
       "\t 9          & 0.00719778\\\\\n",
       "\\end{tabular}\n"
      ],
      "text/markdown": [
       "\n",
       "y | prob | \n",
       "|---|---|---|---|---|---|---|---|---|---|\n",
       "| 0          | 0.02843882 | \n",
       "| 1          | 0.10124222 | \n",
       "| 2          | 0.18021114 | \n",
       "| 3          | 0.21385056 | \n",
       "| 4          | 0.19032700 | \n",
       "| 5          | 0.13551282 | \n",
       "| 6          | 0.08040427 | \n",
       "| 7          | 0.04089132 | \n",
       "| 8          | 0.01819664 | \n",
       "| 9          | 0.00719778 | \n",
       "\n",
       "\n"
      ],
      "text/plain": [
       "      y prob      \n",
       " [1,] 0 0.02843882\n",
       " [2,] 1 0.10124222\n",
       " [3,] 2 0.18021114\n",
       " [4,] 3 0.21385056\n",
       " [5,] 4 0.19032700\n",
       " [6,] 5 0.13551282\n",
       " [7,] 6 0.08040427\n",
       " [8,] 7 0.04089132\n",
       " [9,] 8 0.01819664\n",
       "[10,] 9 0.00719778"
      ]
     },
     "metadata": {},
     "output_type": "display_data"
    }
   ],
   "source": [
    "cbind(y, prob)"
   ]
  },
  {
   "cell_type": "markdown",
   "metadata": {},
   "source": [
    "# データとポアソン分布 "
   ]
  },
  {
   "cell_type": "code",
   "execution_count": 18,
   "metadata": {
    "scrolled": false
   },
   "outputs": [
    {
     "data": {
      "image/png": "[encoded data removed]",
      "text/plain": [
       "Plot with title “Histogram of data”"
      ]
     },
     "metadata": {},
     "output_type": "display_data"
    }
   ],
   "source": [
    "hist(data, breaks = seq(-0.5, 9.5, 1))\n",
    "points(y, prob * 50)\n",
    "lines(y, prob * 50, lty = 2)"
   ]
  },
  {
   "cell_type": "markdown",
   "metadata": {},
   "source": [
    "# $\\lambda$の値を変えた時、最尤推定"
   ]
  },
  {
   "cell_type": "code",
   "execution_count": 19,
   "metadata": {},
   "outputs": [],
   "source": [
    "logL <- function(m) sum(dpois(data, m, log = TRUE))"
   ]
  },
  {
   "cell_type": "code",
   "execution_count": 20,
   "metadata": {},
   "outputs": [],
   "source": [
    "plot.poisson <- function(lambda) {\n",
    "    y <- 0:9\n",
    "    prob <- dpois(y, lambda = lambda)\n",
    "\n",
    "    hist(data, breaks = seq(-0.5, 9.5, 1), ylim = c(0, 15),\n",
    "         main = \"\", xlab = \"\", ylab = \"\")\n",
    "    points(y, prob * 50)\n",
    "    lines(y,  prob * 50, lty = 2)\n",
    "\n",
    "    title(sprintf(\"lambda= %.1f\\n logL= %.1f\", lambda, logL(lambda)))\n",
    "}"
   ]
  },
  {
   "cell_type": "code",
   "execution_count": 21,
   "metadata": {
    "scrolled": true
   },
   "outputs": [
    {
     "data": {
      "image/png": "[encoded data removed]",
      "text/plain": [
       "Plot with title “lambda= 5.2\n",
       " logL= -111.8”"
      ]
     },
     "metadata": {},
     "output_type": "display_data"
    }
   ],
   "source": [
    "layout(matrix(1:9, byrow = T, ncol = 3))\n",
    "junk <- sapply(seq(2, 5.2, 0.4), plot.poisson)"
   ]
  },
  {
   "cell_type": "code",
   "execution_count": 22,
   "metadata": {},
   "outputs": [],
   "source": [
    "x <- seq(2,5,0.1)"
   ]
  },
  {
   "cell_type": "code",
   "execution_count": 23,
   "metadata": {},
   "outputs": [],
   "source": [
    "y <- sapply(x, logL)"
   ]
  },
  {
   "cell_type": "code",
   "execution_count": 24,
   "metadata": {},
   "outputs": [
    {
     "data": {
      "text/html": [
       "<ol class=list-inline>\n",
       "\t<li>-121.881181786918</li>\n",
       "\t<li>-118.196532564759</li>\n",
       "\t<li>-114.915969781748</li>\n",
       "\t<li>-112.003556044139</li>\n",
       "\t<li>-109.427944677594</li>\n",
       "\t<li>-107.161629652988</li>\n",
       "\t<li>-105.180342711704</li>\n",
       "\t<li>-103.462564330757</li>\n",
       "\t<li>-101.989123668342</li>\n",
       "\t<li>-100.742868741936</li>\n",
       "\t<li>-99.7083925436643</li>\n",
       "\t<li>-98.8718040811719</li>\n",
       "\t<li>-98.2205357811766</li>\n",
       "\t<li>-97.7431805384944</li>\n",
       "\t<li>-97.4293530978512</li>\n",
       "\t<li>-97.2695715344123</li>\n",
       "\t<li>-97.2551554343404</li>\n",
       "\t<li>-97.378138028856</li>\n",
       "\t<li>-97.6311900482313</li>\n",
       "\t<li>-98.0075534684509</li>\n",
       "\t<li>-98.5009836472473</li>\n",
       "\t<li>-99.1056986061612</li>\n",
       "\t<li>-99.8163344250884</li>\n",
       "\t<li>-100.627905886074</li>\n",
       "\t<li>-101.535771642077</li>\n",
       "\t<li>-102.535603300411</li>\n",
       "\t<li>-103.623357904469</li>\n",
       "\t<li>-104.795253375138</li>\n",
       "\t<li>-106.047746537923</li>\n",
       "\t<li>-107.377513415836</li>\n",
       "\t<li>-108.781431513318</li>\n",
       "</ol>\n"
      ],
      "text/latex": [
       "\\begin{enumerate*}\n",
       "\\item -121.881181786918\n",
       "\\item -118.196532564759\n",
       "\\item -114.915969781748\n",
       "\\item -112.003556044139\n",
       "\\item -109.427944677594\n",
       "\\item -107.161629652988\n",
       "\\item -105.180342711704\n",
       "\\item -103.462564330757\n",
       "\\item -101.989123668342\n",
       "\\item -100.742868741936\n",
       "\\item -99.7083925436643\n",
       "\\item -98.8718040811719\n",
       "\\item -98.2205357811766\n",
       "\\item -97.7431805384944\n",
       "\\item -97.4293530978512\n",
       "\\item -97.2695715344123\n",
       "\\item -97.2551554343404\n",
       "\\item -97.378138028856\n",
       "\\item -97.6311900482313\n",
       "\\item -98.0075534684509\n",
       "\\item -98.5009836472473\n",
       "\\item -99.1056986061612\n",
       "\\item -99.8163344250884\n",
       "\\item -100.627905886074\n",
       "\\item -101.535771642077\n",
       "\\item -102.535603300411\n",
       "\\item -103.623357904469\n",
       "\\item -104.795253375138\n",
       "\\item -106.047746537923\n",
       "\\item -107.377513415836\n",
       "\\item -108.781431513318\n",
       "\\end{enumerate*}\n"
      ],
      "text/markdown": [
       "1. -121.881181786918\n",
       "2. -118.196532564759\n",
       "3. -114.915969781748\n",
       "4. -112.003556044139\n",
       "5. -109.427944677594\n",
       "6. -107.161629652988\n",
       "7. -105.180342711704\n",
       "8. -103.462564330757\n",
       "9. -101.989123668342\n",
       "10. -100.742868741936\n",
       "11. -99.7083925436643\n",
       "12. -98.8718040811719\n",
       "13. -98.2205357811766\n",
       "14. -97.7431805384944\n",
       "15. -97.4293530978512\n",
       "16. -97.2695715344123\n",
       "17. -97.2551554343404\n",
       "18. -97.378138028856\n",
       "19. -97.6311900482313\n",
       "20. -98.0075534684509\n",
       "21. -98.5009836472473\n",
       "22. -99.1056986061612\n",
       "23. -99.8163344250884\n",
       "24. -100.627905886074\n",
       "25. -101.535771642077\n",
       "26. -102.535603300411\n",
       "27. -103.623357904469\n",
       "28. -104.795253375138\n",
       "29. -106.047746537923\n",
       "30. -107.377513415836\n",
       "31. -108.781431513318\n",
       "\n",
       "\n"
      ],
      "text/plain": [
       " [1] -121.88118 -118.19653 -114.91597 -112.00356 -109.42794 -107.16163\n",
       " [7] -105.18034 -103.46256 -101.98912 -100.74287  -99.70839  -98.87180\n",
       "[13]  -98.22054  -97.74318  -97.42935  -97.26957  -97.25516  -97.37814\n",
       "[19]  -97.63119  -98.00755  -98.50098  -99.10570  -99.81633 -100.62791\n",
       "[25] -101.53577 -102.53560 -103.62336 -104.79525 -106.04775 -107.37751\n",
       "[31] -108.78143"
      ]
     },
     "metadata": {},
     "output_type": "display_data"
    }
   ],
   "source": [
    "y"
   ]
  },
  {
   "cell_type": "code",
   "execution_count": 25,
   "metadata": {},
   "outputs": [
    {
     "data": {
      "image/png": "[encoded data removed]",
      "text/plain": [
       "plot without title"
      ]
     },
     "metadata": {},
     "output_type": "display_data"
    }
   ],
   "source": [
    "plot(x,y)"
   ]
  },
  {
   "cell_type": "markdown",
   "metadata": {},
   "source": [
    "# 乱数生成 "
   ]
  },
  {
   "cell_type": "markdown",
   "metadata": {},
   "source": [
    "set.seedすると同じ乱数が生成される"
   ]
  },
  {
   "cell_type": "code",
   "execution_count": 26,
   "metadata": {
    "scrolled": true
   },
   "outputs": [
    {
     "data": {
      "text/html": [
       "<ol class=list-inline>\n",
       "\t<li>2</li>\n",
       "\t<li>5</li>\n",
       "\t<li>3</li>\n",
       "\t<li>3</li>\n",
       "\t<li>4</li>\n",
       "\t<li>4</li>\n",
       "\t<li>1</li>\n",
       "\t<li>2</li>\n",
       "\t<li>4</li>\n",
       "\t<li>4</li>\n",
       "\t<li>3</li>\n",
       "\t<li>3</li>\n",
       "\t<li>3</li>\n",
       "\t<li>4</li>\n",
       "\t<li>6</li>\n",
       "\t<li>5</li>\n",
       "\t<li>1</li>\n",
       "\t<li>4</li>\n",
       "\t<li>6</li>\n",
       "\t<li>2</li>\n",
       "\t<li>2</li>\n",
       "\t<li>0</li>\n",
       "\t<li>1</li>\n",
       "\t<li>1</li>\n",
       "\t<li>2</li>\n",
       "\t<li>5</li>\n",
       "\t<li>4</li>\n",
       "\t<li>6</li>\n",
       "\t<li>4</li>\n",
       "\t<li>5</li>\n",
       "\t<li>3</li>\n",
       "\t<li>3</li>\n",
       "\t<li>2</li>\n",
       "\t<li>3</li>\n",
       "\t<li>2</li>\n",
       "\t<li>3</li>\n",
       "\t<li>6</li>\n",
       "\t<li>2</li>\n",
       "\t<li>4</li>\n",
       "\t<li>2</li>\n",
       "\t<li>2</li>\n",
       "\t<li>5</li>\n",
       "\t<li>2</li>\n",
       "\t<li>4</li>\n",
       "\t<li>3</li>\n",
       "\t<li>2</li>\n",
       "\t<li>1</li>\n",
       "\t<li>1</li>\n",
       "\t<li>2</li>\n",
       "\t<li>5</li>\n",
       "</ol>\n"
      ],
      "text/latex": [
       "\\begin{enumerate*}\n",
       "\\item 2\n",
       "\\item 5\n",
       "\\item 3\n",
       "\\item 3\n",
       "\\item 4\n",
       "\\item 4\n",
       "\\item 1\n",
       "\\item 2\n",
       "\\item 4\n",
       "\\item 4\n",
       "\\item 3\n",
       "\\item 3\n",
       "\\item 3\n",
       "\\item 4\n",
       "\\item 6\n",
       "\\item 5\n",
       "\\item 1\n",
       "\\item 4\n",
       "\\item 6\n",
       "\\item 2\n",
       "\\item 2\n",
       "\\item 0\n",
       "\\item 1\n",
       "\\item 1\n",
       "\\item 2\n",
       "\\item 5\n",
       "\\item 4\n",
       "\\item 6\n",
       "\\item 4\n",
       "\\item 5\n",
       "\\item 3\n",
       "\\item 3\n",
       "\\item 2\n",
       "\\item 3\n",
       "\\item 2\n",
       "\\item 3\n",
       "\\item 6\n",
       "\\item 2\n",
       "\\item 4\n",
       "\\item 2\n",
       "\\item 2\n",
       "\\item 5\n",
       "\\item 2\n",
       "\\item 4\n",
       "\\item 3\n",
       "\\item 2\n",
       "\\item 1\n",
       "\\item 1\n",
       "\\item 2\n",
       "\\item 5\n",
       "\\end{enumerate*}\n"
      ],
      "text/markdown": [
       "1. 2\n",
       "2. 5\n",
       "3. 3\n",
       "4. 3\n",
       "5. 4\n",
       "6. 4\n",
       "7. 1\n",
       "8. 2\n",
       "9. 4\n",
       "10. 4\n",
       "11. 3\n",
       "12. 3\n",
       "13. 3\n",
       "14. 4\n",
       "15. 6\n",
       "16. 5\n",
       "17. 1\n",
       "18. 4\n",
       "19. 6\n",
       "20. 2\n",
       "21. 2\n",
       "22. 0\n",
       "23. 1\n",
       "24. 1\n",
       "25. 2\n",
       "26. 5\n",
       "27. 4\n",
       "28. 6\n",
       "29. 4\n",
       "30. 5\n",
       "31. 3\n",
       "32. 3\n",
       "33. 2\n",
       "34. 3\n",
       "35. 2\n",
       "36. 3\n",
       "37. 6\n",
       "38. 2\n",
       "39. 4\n",
       "40. 2\n",
       "41. 2\n",
       "42. 5\n",
       "43. 2\n",
       "44. 4\n",
       "45. 3\n",
       "46. 2\n",
       "47. 1\n",
       "48. 1\n",
       "49. 2\n",
       "50. 5\n",
       "\n",
       "\n"
      ],
      "text/plain": [
       " [1] 2 5 3 3 4 4 1 2 4 4 3 3 3 4 6 5 1 4 6 2 2 0 1 1 2 5 4 6 4 5 3 3 2 3 2 3 6 2\n",
       "[39] 4 2 2 5 2 4 3 2 1 1 2 5"
      ]
     },
     "metadata": {},
     "output_type": "display_data"
    }
   ],
   "source": [
    "set.seed(3)\n",
    "rpois(50, 3.5)"
   ]
  },
  {
   "cell_type": "code",
   "execution_count": 27,
   "metadata": {
    "scrolled": true
   },
   "outputs": [
    {
     "data": {
      "text/html": [
       "<ol class=list-inline>\n",
       "\t<li>2</li>\n",
       "\t<li>5</li>\n",
       "\t<li>3</li>\n",
       "\t<li>3</li>\n",
       "\t<li>4</li>\n",
       "\t<li>4</li>\n",
       "\t<li>1</li>\n",
       "\t<li>2</li>\n",
       "\t<li>4</li>\n",
       "\t<li>4</li>\n",
       "\t<li>3</li>\n",
       "\t<li>3</li>\n",
       "\t<li>3</li>\n",
       "\t<li>4</li>\n",
       "\t<li>6</li>\n",
       "\t<li>5</li>\n",
       "\t<li>1</li>\n",
       "\t<li>4</li>\n",
       "\t<li>6</li>\n",
       "\t<li>2</li>\n",
       "\t<li>2</li>\n",
       "\t<li>0</li>\n",
       "\t<li>1</li>\n",
       "\t<li>1</li>\n",
       "\t<li>2</li>\n",
       "\t<li>5</li>\n",
       "\t<li>4</li>\n",
       "\t<li>6</li>\n",
       "\t<li>4</li>\n",
       "\t<li>5</li>\n",
       "\t<li>3</li>\n",
       "\t<li>3</li>\n",
       "\t<li>2</li>\n",
       "\t<li>3</li>\n",
       "\t<li>2</li>\n",
       "\t<li>3</li>\n",
       "\t<li>6</li>\n",
       "\t<li>2</li>\n",
       "\t<li>4</li>\n",
       "\t<li>2</li>\n",
       "\t<li>2</li>\n",
       "\t<li>5</li>\n",
       "\t<li>2</li>\n",
       "\t<li>4</li>\n",
       "\t<li>3</li>\n",
       "\t<li>2</li>\n",
       "\t<li>1</li>\n",
       "\t<li>1</li>\n",
       "\t<li>2</li>\n",
       "\t<li>5</li>\n",
       "</ol>\n"
      ],
      "text/latex": [
       "\\begin{enumerate*}\n",
       "\\item 2\n",
       "\\item 5\n",
       "\\item 3\n",
       "\\item 3\n",
       "\\item 4\n",
       "\\item 4\n",
       "\\item 1\n",
       "\\item 2\n",
       "\\item 4\n",
       "\\item 4\n",
       "\\item 3\n",
       "\\item 3\n",
       "\\item 3\n",
       "\\item 4\n",
       "\\item 6\n",
       "\\item 5\n",
       "\\item 1\n",
       "\\item 4\n",
       "\\item 6\n",
       "\\item 2\n",
       "\\item 2\n",
       "\\item 0\n",
       "\\item 1\n",
       "\\item 1\n",
       "\\item 2\n",
       "\\item 5\n",
       "\\item 4\n",
       "\\item 6\n",
       "\\item 4\n",
       "\\item 5\n",
       "\\item 3\n",
       "\\item 3\n",
       "\\item 2\n",
       "\\item 3\n",
       "\\item 2\n",
       "\\item 3\n",
       "\\item 6\n",
       "\\item 2\n",
       "\\item 4\n",
       "\\item 2\n",
       "\\item 2\n",
       "\\item 5\n",
       "\\item 2\n",
       "\\item 4\n",
       "\\item 3\n",
       "\\item 2\n",
       "\\item 1\n",
       "\\item 1\n",
       "\\item 2\n",
       "\\item 5\n",
       "\\end{enumerate*}\n"
      ],
      "text/markdown": [
       "1. 2\n",
       "2. 5\n",
       "3. 3\n",
       "4. 3\n",
       "5. 4\n",
       "6. 4\n",
       "7. 1\n",
       "8. 2\n",
       "9. 4\n",
       "10. 4\n",
       "11. 3\n",
       "12. 3\n",
       "13. 3\n",
       "14. 4\n",
       "15. 6\n",
       "16. 5\n",
       "17. 1\n",
       "18. 4\n",
       "19. 6\n",
       "20. 2\n",
       "21. 2\n",
       "22. 0\n",
       "23. 1\n",
       "24. 1\n",
       "25. 2\n",
       "26. 5\n",
       "27. 4\n",
       "28. 6\n",
       "29. 4\n",
       "30. 5\n",
       "31. 3\n",
       "32. 3\n",
       "33. 2\n",
       "34. 3\n",
       "35. 2\n",
       "36. 3\n",
       "37. 6\n",
       "38. 2\n",
       "39. 4\n",
       "40. 2\n",
       "41. 2\n",
       "42. 5\n",
       "43. 2\n",
       "44. 4\n",
       "45. 3\n",
       "46. 2\n",
       "47. 1\n",
       "48. 1\n",
       "49. 2\n",
       "50. 5\n",
       "\n",
       "\n"
      ],
      "text/plain": [
       " [1] 2 5 3 3 4 4 1 2 4 4 3 3 3 4 6 5 1 4 6 2 2 0 1 1 2 5 4 6 4 5 3 3 2 3 2 3 6 2\n",
       "[39] 4 2 2 5 2 4 3 2 1 1 2 5"
      ]
     },
     "metadata": {},
     "output_type": "display_data"
    }
   ],
   "source": [
    "set.seed(3)\n",
    "rpois(50, 3.5)"
   ]
  },
  {
   "cell_type": "code",
   "execution_count": 28,
   "metadata": {},
   "outputs": [
    {
     "data": {
      "text/html": [
       "<ol class=list-inline>\n",
       "\t<li>2</li>\n",
       "\t<li>2</li>\n",
       "\t<li>6</li>\n",
       "\t<li>9</li>\n",
       "\t<li>5</li>\n",
       "\t<li>6</li>\n",
       "\t<li>3</li>\n",
       "\t<li>2</li>\n",
       "\t<li>1</li>\n",
       "\t<li>2</li>\n",
       "\t<li>5</li>\n",
       "\t<li>1</li>\n",
       "\t<li>5</li>\n",
       "\t<li>1</li>\n",
       "\t<li>5</li>\n",
       "\t<li>2</li>\n",
       "\t<li>5</li>\n",
       "\t<li>4</li>\n",
       "\t<li>3</li>\n",
       "\t<li>1</li>\n",
       "\t<li>5</li>\n",
       "\t<li>5</li>\n",
       "\t<li>6</li>\n",
       "\t<li>7</li>\n",
       "\t<li>3</li>\n",
       "\t<li>4</li>\n",
       "\t<li>2</li>\n",
       "\t<li>2</li>\n",
       "\t<li>5</li>\n",
       "\t<li>5</li>\n",
       "\t<li>5</li>\n",
       "\t<li>4</li>\n",
       "\t<li>3</li>\n",
       "\t<li>0</li>\n",
       "\t<li>7</li>\n",
       "\t<li>5</li>\n",
       "\t<li>2</li>\n",
       "\t<li>3</li>\n",
       "\t<li>4</li>\n",
       "\t<li>6</li>\n",
       "\t<li>0</li>\n",
       "\t<li>2</li>\n",
       "\t<li>3</li>\n",
       "\t<li>5</li>\n",
       "\t<li>6</li>\n",
       "\t<li>2</li>\n",
       "\t<li>3</li>\n",
       "\t<li>2</li>\n",
       "\t<li>2</li>\n",
       "\t<li>4</li>\n",
       "</ol>\n"
      ],
      "text/latex": [
       "\\begin{enumerate*}\n",
       "\\item 2\n",
       "\\item 2\n",
       "\\item 6\n",
       "\\item 9\n",
       "\\item 5\n",
       "\\item 6\n",
       "\\item 3\n",
       "\\item 2\n",
       "\\item 1\n",
       "\\item 2\n",
       "\\item 5\n",
       "\\item 1\n",
       "\\item 5\n",
       "\\item 1\n",
       "\\item 5\n",
       "\\item 2\n",
       "\\item 5\n",
       "\\item 4\n",
       "\\item 3\n",
       "\\item 1\n",
       "\\item 5\n",
       "\\item 5\n",
       "\\item 6\n",
       "\\item 7\n",
       "\\item 3\n",
       "\\item 4\n",
       "\\item 2\n",
       "\\item 2\n",
       "\\item 5\n",
       "\\item 5\n",
       "\\item 5\n",
       "\\item 4\n",
       "\\item 3\n",
       "\\item 0\n",
       "\\item 7\n",
       "\\item 5\n",
       "\\item 2\n",
       "\\item 3\n",
       "\\item 4\n",
       "\\item 6\n",
       "\\item 0\n",
       "\\item 2\n",
       "\\item 3\n",
       "\\item 5\n",
       "\\item 6\n",
       "\\item 2\n",
       "\\item 3\n",
       "\\item 2\n",
       "\\item 2\n",
       "\\item 4\n",
       "\\end{enumerate*}\n"
      ],
      "text/markdown": [
       "1. 2\n",
       "2. 2\n",
       "3. 6\n",
       "4. 9\n",
       "5. 5\n",
       "6. 6\n",
       "7. 3\n",
       "8. 2\n",
       "9. 1\n",
       "10. 2\n",
       "11. 5\n",
       "12. 1\n",
       "13. 5\n",
       "14. 1\n",
       "15. 5\n",
       "16. 2\n",
       "17. 5\n",
       "18. 4\n",
       "19. 3\n",
       "20. 1\n",
       "21. 5\n",
       "22. 5\n",
       "23. 6\n",
       "24. 7\n",
       "25. 3\n",
       "26. 4\n",
       "27. 2\n",
       "28. 2\n",
       "29. 5\n",
       "30. 5\n",
       "31. 5\n",
       "32. 4\n",
       "33. 3\n",
       "34. 0\n",
       "35. 7\n",
       "36. 5\n",
       "37. 2\n",
       "38. 3\n",
       "39. 4\n",
       "40. 6\n",
       "41. 0\n",
       "42. 2\n",
       "43. 3\n",
       "44. 5\n",
       "45. 6\n",
       "46. 2\n",
       "47. 3\n",
       "48. 2\n",
       "49. 2\n",
       "50. 4\n",
       "\n",
       "\n"
      ],
      "text/plain": [
       " [1] 2 2 6 9 5 6 3 2 1 2 5 1 5 1 5 2 5 4 3 1 5 5 6 7 3 4 2 2 5 5 5 4 3 0 7 5 2 3\n",
       "[39] 4 6 0 2 3 5 6 2 3 2 2 4"
      ]
     },
     "metadata": {},
     "output_type": "display_data"
    }
   ],
   "source": [
    "rpois(50, 3.5)"
   ]
  },
  {
   "cell_type": "code",
   "execution_count": 29,
   "metadata": {},
   "outputs": [
    {
     "data": {
      "text/html": [
       "<ol class=list-inline>\n",
       "\t<li>5</li>\n",
       "\t<li>4</li>\n",
       "\t<li>2</li>\n",
       "\t<li>4</li>\n",
       "\t<li>4</li>\n",
       "\t<li>3</li>\n",
       "\t<li>1</li>\n",
       "\t<li>3</li>\n",
       "\t<li>1</li>\n",
       "\t<li>2</li>\n",
       "\t<li>3</li>\n",
       "\t<li>1</li>\n",
       "\t<li>2</li>\n",
       "\t<li>2</li>\n",
       "\t<li>6</li>\n",
       "\t<li>4</li>\n",
       "\t<li>5</li>\n",
       "\t<li>4</li>\n",
       "\t<li>2</li>\n",
       "\t<li>3</li>\n",
       "\t<li>4</li>\n",
       "\t<li>5</li>\n",
       "\t<li>5</li>\n",
       "\t<li>2</li>\n",
       "\t<li>4</li>\n",
       "\t<li>3</li>\n",
       "\t<li>4</li>\n",
       "\t<li>3</li>\n",
       "\t<li>6</li>\n",
       "\t<li>2</li>\n",
       "\t<li>2</li>\n",
       "\t<li>3</li>\n",
       "\t<li>3</li>\n",
       "\t<li>2</li>\n",
       "\t<li>5</li>\n",
       "\t<li>4</li>\n",
       "\t<li>1</li>\n",
       "\t<li>1</li>\n",
       "\t<li>4</li>\n",
       "\t<li>4</li>\n",
       "\t<li>3</li>\n",
       "\t<li>2</li>\n",
       "\t<li>4</li>\n",
       "\t<li>6</li>\n",
       "\t<li>5</li>\n",
       "\t<li>2</li>\n",
       "\t<li>4</li>\n",
       "\t<li>5</li>\n",
       "\t<li>4</li>\n",
       "\t<li>2</li>\n",
       "</ol>\n"
      ],
      "text/latex": [
       "\\begin{enumerate*}\n",
       "\\item 5\n",
       "\\item 4\n",
       "\\item 2\n",
       "\\item 4\n",
       "\\item 4\n",
       "\\item 3\n",
       "\\item 1\n",
       "\\item 3\n",
       "\\item 1\n",
       "\\item 2\n",
       "\\item 3\n",
       "\\item 1\n",
       "\\item 2\n",
       "\\item 2\n",
       "\\item 6\n",
       "\\item 4\n",
       "\\item 5\n",
       "\\item 4\n",
       "\\item 2\n",
       "\\item 3\n",
       "\\item 4\n",
       "\\item 5\n",
       "\\item 5\n",
       "\\item 2\n",
       "\\item 4\n",
       "\\item 3\n",
       "\\item 4\n",
       "\\item 3\n",
       "\\item 6\n",
       "\\item 2\n",
       "\\item 2\n",
       "\\item 3\n",
       "\\item 3\n",
       "\\item 2\n",
       "\\item 5\n",
       "\\item 4\n",
       "\\item 1\n",
       "\\item 1\n",
       "\\item 4\n",
       "\\item 4\n",
       "\\item 3\n",
       "\\item 2\n",
       "\\item 4\n",
       "\\item 6\n",
       "\\item 5\n",
       "\\item 2\n",
       "\\item 4\n",
       "\\item 5\n",
       "\\item 4\n",
       "\\item 2\n",
       "\\end{enumerate*}\n"
      ],
      "text/markdown": [
       "1. 5\n",
       "2. 4\n",
       "3. 2\n",
       "4. 4\n",
       "5. 4\n",
       "6. 3\n",
       "7. 1\n",
       "8. 3\n",
       "9. 1\n",
       "10. 2\n",
       "11. 3\n",
       "12. 1\n",
       "13. 2\n",
       "14. 2\n",
       "15. 6\n",
       "16. 4\n",
       "17. 5\n",
       "18. 4\n",
       "19. 2\n",
       "20. 3\n",
       "21. 4\n",
       "22. 5\n",
       "23. 5\n",
       "24. 2\n",
       "25. 4\n",
       "26. 3\n",
       "27. 4\n",
       "28. 3\n",
       "29. 6\n",
       "30. 2\n",
       "31. 2\n",
       "32. 3\n",
       "33. 3\n",
       "34. 2\n",
       "35. 5\n",
       "36. 4\n",
       "37. 1\n",
       "38. 1\n",
       "39. 4\n",
       "40. 4\n",
       "41. 3\n",
       "42. 2\n",
       "43. 4\n",
       "44. 6\n",
       "45. 5\n",
       "46. 2\n",
       "47. 4\n",
       "48. 5\n",
       "49. 4\n",
       "50. 2\n",
       "\n",
       "\n"
      ],
      "text/plain": [
       " [1] 5 4 2 4 4 3 1 3 1 2 3 1 2 2 6 4 5 4 2 3 4 5 5 2 4 3 4 3 6 2 2 3 3 2 5 4 1 1\n",
       "[39] 4 4 3 2 4 6 5 2 4 5 4 2"
      ]
     },
     "metadata": {},
     "output_type": "display_data"
    }
   ],
   "source": [
    "rpois(50, 3.5)"
   ]
  },
  {
   "cell_type": "markdown",
   "metadata": {},
   "source": [
    "# 中心極限定理をやってみる"
   ]
  },
  {
   "cell_type": "markdown",
   "metadata": {},
   "source": [
    "みどりぼんに関係ないが、中心極限の定理を確認してみる"
   ]
  },
  {
   "cell_type": "code",
   "execution_count": 38,
   "metadata": {},
   "outputs": [],
   "source": [
    "#母集団の数\n",
    "N <- 3000\n",
    "#標本数\n",
    "sample_num <- 50"
   ]
  },
  {
   "cell_type": "code",
   "execution_count": 31,
   "metadata": {},
   "outputs": [],
   "source": [
    "#母集団生成\n",
    "data_master <- rpois(N, 3.5)"
   ]
  },
  {
   "cell_type": "code",
   "execution_count": 40,
   "metadata": {},
   "outputs": [],
   "source": [
    "mean_lambda <- mean(data_master)\n",
    "var_lambda <- var(data_master)\n",
    "\n",
    "#プロットの幅とプロットレンジ\n",
    "plt_step <- 0.1\n",
    "plt_point <- seq(2, 5, plt_step)"
   ]
  },
  {
   "cell_type": "markdown",
   "metadata": {},
   "source": [
    "標本平均の分布は$N(\\bar{\\lambda}, \\sigma(\\lambda))$に従うはず"
   ]
  },
  {
   "cell_type": "code",
   "execution_count": 47,
   "metadata": {},
   "outputs": [],
   "source": [
    "#繰り返し回数を指定して、乱数生成して標本抽出し、平均の分布をプロットする\n",
    "plot <- function(repeat_num){\n",
    "    lambda <- c()\n",
    "    for (i in 1:repeat_num){\n",
    "        index <- floor(runif(sample_num, min=1, max=N+1))\n",
    "        data <- data_master[index]\n",
    "        lambda <- c(lambda, mean(data))\n",
    "    }\n",
    "    hist(lambda, main=sprintf(\"repeat= %.1f var*sample_num= %.3f mean=%.2f\", \n",
    "                              repeat_num, \n",
    "                              var(lambda)*sample_num, \n",
    "                              mean(lambda)), \n",
    "         plt_point)\n",
    "    prob <- dnorm(plt_point, mean=mean_lambda, sd= sqrt(var_lambda/sample_num))*repeat_num*plt_step\n",
    "    points(plt_point, prob)\n",
    "    lines(plt_point,  prob, lty = 2)\n",
    "}\n"
   ]
  },
  {
   "cell_type": "code",
   "execution_count": 48,
   "metadata": {
    "scrolled": false
   },
   "outputs": [
    {
     "data": {
      "image/png": "[encoded data removed]",
      "text/plain": [
       "Plot with title “repeat= 10.0 var*sample_num= 4.005 mean=3.51”"
      ]
     },
     "metadata": {},
     "output_type": "display_data"
    }
   ],
   "source": [
    "plot(10)"
   ]
  },
  {
   "cell_type": "code",
   "execution_count": 49,
   "metadata": {
    "scrolled": false
   },
   "outputs": [
    {
     "data": {
      "image/png": "[encoded data removed]",
      "text/plain": [
       "Plot with title “repeat= 50.0 var*sample_num= 4.943 mean=3.51”"
      ]
     },
     "metadata": {},
     "output_type": "display_data"
    }
   ],
   "source": [
    "plot(50)"
   ]
  },
  {
   "cell_type": "code",
   "execution_count": 50,
   "metadata": {},
   "outputs": [
    {
     "data": {
      "image/png": "[encoded data removed]",
      "text/plain": [
       "Plot with title “repeat= 600.0 var*sample_num= 3.400 mean=3.53”"
      ]
     },
     "metadata": {},
     "output_type": "display_data"
    }
   ],
   "source": [
    "plot(600)"
   ]
  },
  {
   "cell_type": "code",
   "execution_count": 51,
   "metadata": {},
   "outputs": [
    {
     "data": {
      "image/png": "[encoded data removed]",
      "text/plain": [
       "Plot with title “repeat= 1000.0 var*sample_num= 3.229 mean=3.54”"
      ]
     },
     "metadata": {},
     "output_type": "display_data"
    }
   ],
   "source": [
    "plot(1000)"
   ]
  },
  {
   "cell_type": "code",
   "execution_count": null,
   "metadata": {},
   "outputs": [],
   "source": []
  },
  {
   "cell_type": "code",
   "execution_count": null,
   "metadata": {},
   "outputs": [],
   "source": []
  },
  {
   "cell_type": "code",
   "execution_count": null,
   "metadata": {},
   "outputs": [],
   "source": []
  }
 ],
 "metadata": {
  "kernelspec": {
   "display_name": "R",
   "language": "R",
   "name": "ir"
  },
  "language_info": {
   "codemirror_mode": "r",
   "file_extension": ".r",
   "mimetype": "text/x-r-source",
   "name": "R",
   "pygments_lexer": "r",
   "version": "3.4.1"
  },
  "toc": {
   "nav_menu": {},
   "number_sections": true,
   "sideBar": false,
   "skip_h1_title": false,
   "title_cell": "Table of Contents",
   "title_sidebar": "Contents",
   "toc_cell": false,
   "toc_position": {
    "height": "308px",
    "left": "1296.99px",
    "top": "120px",
    "width": "251px"
   },
   "toc_section_display": true,
   "toc_window_display": true
  }
 },
 "nbformat": 4,
 "nbformat_minor": 2
}
